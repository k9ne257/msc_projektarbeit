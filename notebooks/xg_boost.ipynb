{
 "cells": [
  {
   "metadata": {},
   "cell_type": "markdown",
   "source": [
    "# Replication Plan: *Classifying Motorcyclist Behaviour with XGBoost Based on IMU Data* (Navratil & Giannopoulos)\n",
    "\n",
    "**Objective:** Reproduce the paper’s results by building a feature-based XGBoost classifier on IMU data to recognize rider behaviours.\n"
   ],
   "id": "270fbf6585278018"
  },
  {
   "metadata": {},
   "cell_type": "markdown",
   "source": [
    "## 1) Data Overview\n",
    "- **Source:** TU Wien motorcycle IMU dataset (accelerometer + gyroscope).\n",
    "- **Sampling:** ~50 Hz (per authors).\n",
    "- **Typical columns:** `timestamp`, `ax, ay, az` (m/s²), `gx, gy, gz` (rad/s), `label`.\n",
    "- **Classes (examples):** normal ride, acceleration, braking, cornering L/R, standing.\n"
   ],
   "id": "385c54e753b1b372"
  },
  {
   "metadata": {
    "jupyter": {
     "is_executing": true
    },
    "ExecuteTime": {
     "start_time": "2025-09-16T22:00:29.514294Z"
    }
   },
   "cell_type": "code",
   "source": [
    "import pandas as pd\n",
    "import os\n",
    "from pathlib import Path\n",
    "\n",
    "base_path = Path(r\"C:\\Users\\Studium\\Documents\\uni\\ma_projekt_arbeit\\code_msc_projektarbeit\\data\\TrainingData\")\n",
    "\n",
    "class_dirs = [d for d in base_path.iterdir() if d.is_dir()]\n",
    "class_dirs\n",
    "dfs = []\n",
    "\n",
    "for class_dir in class_dirs:\n",
    "    label = class_dir.name  # e.g. \"cruise\", \"fun\", \"overtake\", \"traffic\", \"wait\"\n",
    "    for file in class_dir.glob(\"*.csv\"):\n",
    "        df = pd.read_csv(file, delimiter=\",\")\n",
    "        df[\"label\"] = label\n",
    "        df[\"source_file\"] = file.name\n",
    "        dfs.append(df)\n",
    "\n",
    "data = pd.concat(dfs, ignore_index=True)\n",
    "\n",
    "\n",
    "print(\"Shape:\", data.shape)\n",
    "print(\"Columns:\", data.columns.tolist())\n",
    "print(data.head())"
   ],
   "id": "f26b576660340d57",
   "outputs": [],
   "execution_count": null
  },
  {
   "metadata": {},
   "cell_type": "markdown",
   "source": [
    "## 2) Preprocessing\n",
    "- **Sync & sort:** Ensure per-file chronological order by `timestamp`.\n",
    "- (vll Denoise) e.g Light median/low-pass filter.\n",
    "\n",
    "- Fixed-length sliding windows, e.g. `window = 2.0s` (≈100 samples), `stride = 0.5s`.\n",
    "- Each window → one feature vector + majority `label` within the window.\n"
   ],
   "id": "9f22d182282ecc9a"
  },
  {
   "metadata": {
    "ExecuteTime": {
     "end_time": "2025-09-16T22:00:19.368654Z",
     "start_time": "2025-09-16T22:00:19.321660Z"
    }
   },
   "cell_type": "code",
   "source": [
    "print(data[\"SampleTimeFine\"][0])\n",
    "\n",
    "# df[\"timestamp\"] = pd.to_datetime(df[\"Systemzeit\"], unit=\"ms\")\n",
    "# df = df.sort_values(\"timestamp\").reset_index(drop=True)\n",
    "#Always sort by time column before windowing:\n",
    "#df = df.sort_values(\"time_s\")   # or \"timestamp\""
   ],
   "id": "38ad25f96d985ef",
   "outputs": [
    {
     "ename": "NameError",
     "evalue": "name 'data' is not defined",
     "output_type": "error",
     "traceback": [
      "\u001B[1;31m---------------------------------------------------------------------------\u001B[0m",
      "\u001B[1;31mNameError\u001B[0m                                 Traceback (most recent call last)",
      "Cell \u001B[1;32mIn[7], line 1\u001B[0m\n\u001B[1;32m----> 1\u001B[0m \u001B[38;5;28mprint\u001B[39m(\u001B[43mdata\u001B[49m[\u001B[38;5;124m\"\u001B[39m\u001B[38;5;124mSampleTimeFine\u001B[39m\u001B[38;5;124m\"\u001B[39m][\u001B[38;5;241m0\u001B[39m])\n\u001B[0;32m      3\u001B[0m \u001B[38;5;66;03m# df[\"timestamp\"] = pd.to_datetime(df[\"Systemzeit\"], unit=\"ms\")\u001B[39;00m\n\u001B[0;32m      4\u001B[0m \u001B[38;5;66;03m# df = df.sort_values(\"timestamp\").reset_index(drop=True)\u001B[39;00m\n\u001B[0;32m      5\u001B[0m \u001B[38;5;66;03m#Always sort by time column before windowing:\u001B[39;00m\n\u001B[0;32m      6\u001B[0m \u001B[38;5;66;03m#df = df.sort_values(\"time_s\")   # or \"timestamp\"\u001B[39;00m\n",
      "\u001B[1;31mNameError\u001B[0m: name 'data' is not defined"
     ]
    }
   ],
   "execution_count": 7
  },
  {
   "metadata": {},
   "cell_type": "markdown",
   "source": [
    "## 3) Features (Feature Engineering (per axis & per sensor))\n",
    "For each of `ax, ay, az, gx, gy, gz` within a window:\n",
    "- **Stats:** mean, std, var, min, max, median, IQR, skew, kurtosis\n",
    "- **Dynamics:** zero-crossing rate, slope (linear fit β₁), derivative stats\n",
    "- **Energy:** sum of squares / window length\n",
    "- **Magnitudes:** accel |a| = √(ax²+ay²+az²), gyro |g| = √(gx²+gy²+gz²) with same stats\n",
    "- **Orientation cues (optional):** tilt/roll/pitch proxies if available\n",
    "\n",
    "**Post-process**\n",
    "- Handle NaNs/inf, **standardize** features (fit on train only)."
   ],
   "id": "10ce4a139caeb213"
  },
  {
   "metadata": {},
   "cell_type": "markdown",
   "source": [
    "## 4) Train/Validation Protocol\n",
    "- **Split:** 70/30 train/test. Prefer **grouped splits** (by ride/session) to avoid leakage.\n",
    "- **CV:** 10-fold cross-validation on the training set (stratified or grouped).\n",
    "- **Model:** XGBoost `XGBClassifier`\n",
    "  - Starting point: `n_estimators=400`, `max_depth=6`, `learning_rate=0.05`,\n",
    "    `subsample=0.8`, `colsample_bytree=0.8`, `reg_lambda=1.0`.\n",
    "- **Tuning (optional):** small grid/Optuna over depth, learning rate, trees."
   ],
   "id": "ecbcde0d7a6cddc2"
  },
  {
   "metadata": {},
   "cell_type": "code",
   "outputs": [],
   "execution_count": null,
   "source": "",
   "id": "2bc2c66d50722187"
  },
  {
   "metadata": {},
   "cell_type": "markdown",
   "source": [
    "## 5) Metrics & Reporting\n",
    "- **Primary:** Accuracy, macro-F1, per-class Precision/Recall/F1.\n",
    "- **Diagnostics:** Confusion matrix, ROC/PR (per class if needed).\n",
    "- **Explainability:**\n",
    "  - XGBoost feature importance (gain/weight).\n",
    "  - **SHAP**: summary plot + class-wise beeswarm to confirm salient axes/windows.\n"
   ],
   "id": "6f1c4e827a0bdd9c"
  },
  {
   "metadata": {},
   "cell_type": "markdown",
   "source": [
    "## 6) Reproducibility Checklist\n",
    "- `random_state` fixed (e.g., 42) for split and model.\n",
    "- Persist train/val indices (CSV/JSON).\n",
    "- Log: feature list, window params, class mapping, model params.\n",
    "- Environment: `python`, `xgboost`, `numpy`, `pandas`, `scikit-learn`, `shap` versions.\n"
   ],
   "id": "6ff4a461951339d6"
  },
  {
   "metadata": {},
   "cell_type": "markdown",
   "source": [
    "## 7) Expected Outcome\n",
    "- High overall accuracy / macro-F1 with gyro + accel features.\n",
    "- Most informative features: gyro magnitude stats, accel variance/std during dynamic manoeuvres.\n"
   ],
   "id": "911f089007c132ca"
  }
 ],
 "metadata": {
  "kernelspec": {
   "display_name": "Python 3",
   "language": "python",
   "name": "python3"
  },
  "language_info": {
   "codemirror_mode": {
    "name": "ipython",
    "version": 2
   },
   "file_extension": ".py",
   "mimetype": "text/x-python",
   "name": "python",
   "nbconvert_exporter": "python",
   "pygments_lexer": "ipython2",
   "version": "2.7.6"
  }
 },
 "nbformat": 4,
 "nbformat_minor": 5
}
